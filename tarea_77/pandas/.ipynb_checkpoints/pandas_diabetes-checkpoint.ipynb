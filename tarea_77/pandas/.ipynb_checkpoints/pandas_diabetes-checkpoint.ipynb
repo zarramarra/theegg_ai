{
 "cells": [
  {
   "cell_type": "markdown",
   "metadata": {},
   "source": [
    "------------------------------------------------------------------------------------------------------<br>\n",
    "<h3 style=\"background:#87a1c2; color:#ffffff; padding:20px; border-radius:5px;\">✍ DIABETES DATASET - PANDAS</h3><br>\n",
    "------------------------------------------------------------------------------------------------------<br>"
   ]
  },
  {
   "cell_type": "markdown",
   "metadata": {},
   "source": [
    "<b>BREVE EXPLICACIÓN DEL DATASET:</b><br>\n",
    "<img src=\"img/diabetes.png\">\n",
    "<img src=\"img/diabetes2.png\">"
   ]
  },
  {
   "cell_type": "code",
   "execution_count": 19,
   "metadata": {},
   "outputs": [
    {
     "data": {
      "text/plain": [
       "Index(['Pregnancies', 'Glucose', 'BloodPressure', 'SkinThickness', 'Insulin',\n",
       "       'BMI', 'DiabetesPedigreeFunction', 'Age', 'Outcome'],\n",
       "      dtype='object')"
      ]
     },
     "execution_count": 19,
     "metadata": {},
     "output_type": "execute_result"
    }
   ],
   "source": [
    "import pandas as pd\n",
    "diabetes = pd.read_csv('dataset/01_diabetes.csv')\n",
    "diabetes.columns "
   ]
  },
  {
   "cell_type": "code",
   "execution_count": 20,
   "metadata": {},
   "outputs": [
    {
     "data": {
      "text/html": [
       "<div>\n",
       "<style scoped>\n",
       "    .dataframe tbody tr th:only-of-type {\n",
       "        vertical-align: middle;\n",
       "    }\n",
       "\n",
       "    .dataframe tbody tr th {\n",
       "        vertical-align: top;\n",
       "    }\n",
       "\n",
       "    .dataframe thead th {\n",
       "        text-align: right;\n",
       "    }\n",
       "</style>\n",
       "<table border=\"1\" class=\"dataframe\">\n",
       "  <thead>\n",
       "    <tr style=\"text-align: right;\">\n",
       "      <th></th>\n",
       "      <th>embarazo</th>\n",
       "      <th>glucosa</th>\n",
       "      <th>presion_sangre</th>\n",
       "      <th>espesor_piel</th>\n",
       "      <th>insulina</th>\n",
       "      <th>BMI</th>\n",
       "      <th>pedigree</th>\n",
       "      <th>edad</th>\n",
       "      <th>salida</th>\n",
       "    </tr>\n",
       "  </thead>\n",
       "  <tbody>\n",
       "    <tr>\n",
       "      <th>0</th>\n",
       "      <td>6</td>\n",
       "      <td>148</td>\n",
       "      <td>72</td>\n",
       "      <td>35</td>\n",
       "      <td>0</td>\n",
       "      <td>33.6</td>\n",
       "      <td>0.627</td>\n",
       "      <td>50</td>\n",
       "      <td>1</td>\n",
       "    </tr>\n",
       "    <tr>\n",
       "      <th>1</th>\n",
       "      <td>1</td>\n",
       "      <td>85</td>\n",
       "      <td>66</td>\n",
       "      <td>29</td>\n",
       "      <td>0</td>\n",
       "      <td>26.6</td>\n",
       "      <td>0.351</td>\n",
       "      <td>31</td>\n",
       "      <td>0</td>\n",
       "    </tr>\n",
       "    <tr>\n",
       "      <th>2</th>\n",
       "      <td>8</td>\n",
       "      <td>183</td>\n",
       "      <td>64</td>\n",
       "      <td>0</td>\n",
       "      <td>0</td>\n",
       "      <td>23.3</td>\n",
       "      <td>0.672</td>\n",
       "      <td>32</td>\n",
       "      <td>1</td>\n",
       "    </tr>\n",
       "    <tr>\n",
       "      <th>3</th>\n",
       "      <td>1</td>\n",
       "      <td>89</td>\n",
       "      <td>66</td>\n",
       "      <td>23</td>\n",
       "      <td>94</td>\n",
       "      <td>28.1</td>\n",
       "      <td>0.167</td>\n",
       "      <td>21</td>\n",
       "      <td>0</td>\n",
       "    </tr>\n",
       "    <tr>\n",
       "      <th>4</th>\n",
       "      <td>0</td>\n",
       "      <td>137</td>\n",
       "      <td>40</td>\n",
       "      <td>35</td>\n",
       "      <td>168</td>\n",
       "      <td>43.1</td>\n",
       "      <td>2.288</td>\n",
       "      <td>33</td>\n",
       "      <td>1</td>\n",
       "    </tr>\n",
       "  </tbody>\n",
       "</table>\n",
       "</div>"
      ],
      "text/plain": [
       "   embarazo  glucosa  presion_sangre  espesor_piel  insulina   BMI  pedigree  \\\n",
       "0         6      148              72            35         0  33.6     0.627   \n",
       "1         1       85              66            29         0  26.6     0.351   \n",
       "2         8      183              64             0         0  23.3     0.672   \n",
       "3         1       89              66            23        94  28.1     0.167   \n",
       "4         0      137              40            35       168  43.1     2.288   \n",
       "\n",
       "   edad  salida  \n",
       "0    50       1  \n",
       "1    31       0  \n",
       "2    32       1  \n",
       "3    21       0  \n",
       "4    33       1  "
      ]
     },
     "execution_count": 20,
     "metadata": {},
     "output_type": "execute_result"
    }
   ],
   "source": [
    "# Renombrar columnas. Traducir.\n",
    "newcols={\n",
    "\"Pregnancies\":\"embarazo\",\n",
    "\"Glucose\":\"glucosa\",\n",
    "\"BloodPressure\":\"presion_sangre\",\n",
    "\"SkinThickness\":\"espesor_piel\",\n",
    "\"Insulin\":\"insulina\",\n",
    "\"BMI\":\"BMI\",\n",
    "\"DiabetesPedigreeFunction\":\"pedigree\",\n",
    "\"Age\":\"edad\",\n",
    "\"Outcome\":\"salida\"}\n",
    "diabetes.rename(columns=newcols,inplace=True)\n",
    "diabetes.head()"
   ]
  },
  {
   "cell_type": "code",
   "execution_count": 21,
   "metadata": {},
   "outputs": [
    {
     "data": {
      "text/plain": [
       "(768, 9)"
      ]
     },
     "execution_count": 21,
     "metadata": {},
     "output_type": "execute_result"
    }
   ],
   "source": [
    "diabetes.shape"
   ]
  },
  {
   "cell_type": "code",
   "execution_count": 22,
   "metadata": {},
   "outputs": [
    {
     "data": {
      "text/plain": [
       "salida\n",
       "0    500\n",
       "1    268\n",
       "dtype: int64"
      ]
     },
     "execution_count": 22,
     "metadata": {},
     "output_type": "execute_result"
    }
   ],
   "source": [
    "diabetes.groupby('salida').size()"
   ]
  },
  {
   "cell_type": "code",
   "execution_count": 23,
   "metadata": {},
   "outputs": [
    {
     "data": {
      "text/plain": [
       "embarazo          0\n",
       "glucosa           0\n",
       "presion_sangre    0\n",
       "espesor_piel      0\n",
       "insulina          0\n",
       "BMI               0\n",
       "pedigree          0\n",
       "edad              0\n",
       "salida            0\n",
       "dtype: int64"
      ]
     },
     "execution_count": 23,
     "metadata": {},
     "output_type": "execute_result"
    }
   ],
   "source": [
    "# ¿Datos inválidos?\n",
    "diabetes.isnull().sum()"
   ]
  },
  {
   "cell_type": "code",
   "execution_count": 24,
   "metadata": {},
   "outputs": [
    {
     "name": "stdout",
     "output_type": "stream",
     "text": [
      "Total presión:  35\n",
      "Total glucosa:  5\n",
      "Total piel:  227\n",
      "Total BMI:  11\n",
      "Total insulina:  374\n"
     ]
    }
   ],
   "source": [
    "''' \n",
    "1.- Hay 0 valores para la presión arterial. \n",
    "Y es evidente que las lecturas del conjunto de datos parecen incorrectas \n",
    "ya que una persona viva no puede tener una presión arterial diastólica de cero.\n",
    "\n",
    "2.- Incluso después de ayunar, los niveles de glucosa no serían tan bajos como cero. \n",
    "Por lo tanto, cero es una lectura inválida.\n",
    "\n",
    "3.- Grosores de piel\n",
    "'''\n",
    "\n",
    "print(\"Total presión: \", diabetes[diabetes.presion_sangre == 0].shape[0])\n",
    "print(\"Total glucosa: \", diabetes[diabetes.glucosa == 0].shape[0])\n",
    "print(\"Total piel: \", diabetes[diabetes.espesor_piel == 0].shape[0])\n",
    "print(\"Total BMI: \", diabetes[diabetes.BMI == 0].shape[0])\n",
    "print(\"Total insulina: \", diabetes[diabetes.insulina == 0].shape[0])"
   ]
  },
  {
   "cell_type": "code",
   "execution_count": 25,
   "metadata": {},
   "outputs": [
    {
     "data": {
      "text/plain": [
       "70     57\n",
       "74     52\n",
       "68     45\n",
       "78     45\n",
       "72     44\n",
       "64     43\n",
       "80     40\n",
       "76     39\n",
       "60     37\n",
       "0      35\n",
       "62     34\n",
       "66     30\n",
       "82     30\n",
       "88     25\n",
       "84     23\n",
       "90     22\n",
       "86     21\n",
       "58     21\n",
       "50     13\n",
       "56     12\n",
       "52     11\n",
       "54     11\n",
       "92      8\n",
       "75      8\n",
       "65      7\n",
       "94      6\n",
       "85      6\n",
       "48      5\n",
       "44      4\n",
       "96      4\n",
       "110     3\n",
       "100     3\n",
       "98      3\n",
       "106     3\n",
       "108     2\n",
       "104     2\n",
       "30      2\n",
       "55      2\n",
       "46      2\n",
       "40      1\n",
       "38      1\n",
       "24      1\n",
       "95      1\n",
       "61      1\n",
       "102     1\n",
       "114     1\n",
       "122     1\n",
       "Name: presion_sangre, dtype: int64"
      ]
     },
     "execution_count": 25,
     "metadata": {},
     "output_type": "execute_result"
    }
   ],
   "source": [
    "# Otro modo\n",
    "diabetes['presion_sangre'].value_counts()"
   ]
  },
  {
   "cell_type": "markdown",
   "metadata": {},
   "source": [
    "------------------------------------------------------------------------------------------------------<br>\n",
    "<p>Existen varias maneras de manejar los valores de datos no válidos:<br><br>\n",
    "<b>1.- Ignorar/eliminar estos casos (filas):</b> Esto no es posible en la mayoría de los casos porque significaría perder información valiosa. En este caso las columnas \"grosor de la piel\" e \"insulina\" tienen demasiadas filas vacías. Podría funcionar para los puntos de datos de \"IMC\", \"glucosa\" y \"presión arterial\".<br>\n",
    "<b>2.- Poner valores medios:</b> Esto puede funcionar para algunos conjuntos de datos, pero en nuestro caso poner un valor medio a la columna de presión arterial enviaría una señal errónea al modelo. La interpolación, la moda, etcétera tampoco valdrían.<br>\n",
    "<b>3.- Evitar el uso de la columna:</b> Es posible no utilizar las características con muchos valores no válidos para el modelo. Esto puede funcionar para el \"grosor de la piel\" y la \"insulina\".<br>\n",
    "    ------------------------------------------------------------------------------------------------------<br>"
   ]
  },
  {
   "cell_type": "code",
   "execution_count": 26,
   "metadata": {},
   "outputs": [
    {
     "name": "stdout",
     "output_type": "stream",
     "text": [
      "(724, 9)\n"
     ]
    }
   ],
   "source": [
    "diabetes = diabetes[(diabetes.presion_sangre != 0) & (diabetes.BMI != 0) & (diabetes.glucosa != 0)]\n",
    "print(diabetes.shape)"
   ]
  },
  {
   "cell_type": "markdown",
   "metadata": {},
   "source": [
    "------------------------------------------------------------------------------------------------------<br>\n",
    "\n",
    "<p><b>La modificación de la estructura original del dataset se conoce como ingeniería de las características (feature engineering)</b> y es el proceso de transformar los datos recogidos en características que representen mejor el problema que intentamos resolver para el modelo, con el fin de mejorar su rendimiento y precisión.<br><br>\n",
    "\n",
    "Esta técnica puede crear más características de entrada a partir de los existentes y también combinar varias características para producir rasgos más intuitivos para alimentar el modelo.<br><br>\n",
    "Permitirá resaltar los rasgos importantes y facilitar la aportación de la experiencia del dominio sobre el problema. También puede permitir evitar el sobreajuste (overfitting) del modelo a pesar de proporcionar muchas características de entrada.<br>\n",
    "En este Notebook no transformaremos sustancialmente el dataset original y nos ceñiremos a la eliminación de la información no relevante.\n",
    "Muchas veces el propio conocimiento de campo nos ofrece la visión suficiente como para generar nueva información relevante mediante nuevos features.\n",
    "    <img src=\"img/feature.png\">\n",
    "</p>\n",
    "------------------------------------------------------------------------------------------------------<br>\n",
    "\n"
   ]
  },
  {
   "cell_type": "code",
   "execution_count": 27,
   "metadata": {},
   "outputs": [
    {
     "data": {
      "text/html": [
       "<div>\n",
       "<style scoped>\n",
       "    .dataframe tbody tr th:only-of-type {\n",
       "        vertical-align: middle;\n",
       "    }\n",
       "\n",
       "    .dataframe tbody tr th {\n",
       "        vertical-align: top;\n",
       "    }\n",
       "\n",
       "    .dataframe thead th {\n",
       "        text-align: right;\n",
       "    }\n",
       "</style>\n",
       "<table border=\"1\" class=\"dataframe\">\n",
       "  <thead>\n",
       "    <tr style=\"text-align: right;\">\n",
       "      <th></th>\n",
       "      <th>embarazo</th>\n",
       "      <th>glucosa</th>\n",
       "      <th>presion_sangre</th>\n",
       "      <th>espesor_piel</th>\n",
       "      <th>insulina</th>\n",
       "      <th>BMI</th>\n",
       "      <th>pedigree</th>\n",
       "      <th>edad</th>\n",
       "      <th>salida</th>\n",
       "    </tr>\n",
       "  </thead>\n",
       "  <tbody>\n",
       "    <tr>\n",
       "      <th>0</th>\n",
       "      <td>6</td>\n",
       "      <td>148</td>\n",
       "      <td>72</td>\n",
       "      <td>35</td>\n",
       "      <td>0</td>\n",
       "      <td>33.6</td>\n",
       "      <td>0.627</td>\n",
       "      <td>50</td>\n",
       "      <td>1</td>\n",
       "    </tr>\n",
       "    <tr>\n",
       "      <th>1</th>\n",
       "      <td>1</td>\n",
       "      <td>85</td>\n",
       "      <td>66</td>\n",
       "      <td>29</td>\n",
       "      <td>0</td>\n",
       "      <td>26.6</td>\n",
       "      <td>0.351</td>\n",
       "      <td>31</td>\n",
       "      <td>0</td>\n",
       "    </tr>\n",
       "    <tr>\n",
       "      <th>2</th>\n",
       "      <td>8</td>\n",
       "      <td>183</td>\n",
       "      <td>64</td>\n",
       "      <td>0</td>\n",
       "      <td>0</td>\n",
       "      <td>23.3</td>\n",
       "      <td>0.672</td>\n",
       "      <td>32</td>\n",
       "      <td>1</td>\n",
       "    </tr>\n",
       "    <tr>\n",
       "      <th>3</th>\n",
       "      <td>1</td>\n",
       "      <td>89</td>\n",
       "      <td>66</td>\n",
       "      <td>23</td>\n",
       "      <td>94</td>\n",
       "      <td>28.1</td>\n",
       "      <td>0.167</td>\n",
       "      <td>21</td>\n",
       "      <td>0</td>\n",
       "    </tr>\n",
       "    <tr>\n",
       "      <th>4</th>\n",
       "      <td>0</td>\n",
       "      <td>137</td>\n",
       "      <td>40</td>\n",
       "      <td>35</td>\n",
       "      <td>168</td>\n",
       "      <td>43.1</td>\n",
       "      <td>2.288</td>\n",
       "      <td>33</td>\n",
       "      <td>1</td>\n",
       "    </tr>\n",
       "  </tbody>\n",
       "</table>\n",
       "</div>"
      ],
      "text/plain": [
       "   embarazo  glucosa  presion_sangre  espesor_piel  insulina   BMI  pedigree  \\\n",
       "0         6      148              72            35         0  33.6     0.627   \n",
       "1         1       85              66            29         0  26.6     0.351   \n",
       "2         8      183              64             0         0  23.3     0.672   \n",
       "3         1       89              66            23        94  28.1     0.167   \n",
       "4         0      137              40            35       168  43.1     2.288   \n",
       "\n",
       "   edad  salida  \n",
       "0    50       1  \n",
       "1    31       0  \n",
       "2    32       1  \n",
       "3    21       0  \n",
       "4    33       1  "
      ]
     },
     "execution_count": 27,
     "metadata": {},
     "output_type": "execute_result"
    }
   ],
   "source": [
    "diabetes.head()"
   ]
  },
  {
   "cell_type": "code",
   "execution_count": 28,
   "metadata": {},
   "outputs": [
    {
     "data": {
      "text/html": [
       "<div>\n",
       "<style scoped>\n",
       "    .dataframe tbody tr th:only-of-type {\n",
       "        vertical-align: middle;\n",
       "    }\n",
       "\n",
       "    .dataframe tbody tr th {\n",
       "        vertical-align: top;\n",
       "    }\n",
       "\n",
       "    .dataframe thead th {\n",
       "        text-align: right;\n",
       "    }\n",
       "</style>\n",
       "<table border=\"1\" class=\"dataframe\">\n",
       "  <thead>\n",
       "    <tr style=\"text-align: right;\">\n",
       "      <th></th>\n",
       "      <th>embarazo</th>\n",
       "      <th>glucosa</th>\n",
       "      <th>presion_sangre</th>\n",
       "      <th>BMI</th>\n",
       "      <th>pedigree</th>\n",
       "      <th>edad</th>\n",
       "      <th>salida</th>\n",
       "    </tr>\n",
       "  </thead>\n",
       "  <tbody>\n",
       "    <tr>\n",
       "      <th>0</th>\n",
       "      <td>6</td>\n",
       "      <td>148</td>\n",
       "      <td>72</td>\n",
       "      <td>33.6</td>\n",
       "      <td>0.627</td>\n",
       "      <td>50</td>\n",
       "      <td>1</td>\n",
       "    </tr>\n",
       "    <tr>\n",
       "      <th>1</th>\n",
       "      <td>1</td>\n",
       "      <td>85</td>\n",
       "      <td>66</td>\n",
       "      <td>26.6</td>\n",
       "      <td>0.351</td>\n",
       "      <td>31</td>\n",
       "      <td>0</td>\n",
       "    </tr>\n",
       "    <tr>\n",
       "      <th>2</th>\n",
       "      <td>8</td>\n",
       "      <td>183</td>\n",
       "      <td>64</td>\n",
       "      <td>23.3</td>\n",
       "      <td>0.672</td>\n",
       "      <td>32</td>\n",
       "      <td>1</td>\n",
       "    </tr>\n",
       "    <tr>\n",
       "      <th>3</th>\n",
       "      <td>1</td>\n",
       "      <td>89</td>\n",
       "      <td>66</td>\n",
       "      <td>28.1</td>\n",
       "      <td>0.167</td>\n",
       "      <td>21</td>\n",
       "      <td>0</td>\n",
       "    </tr>\n",
       "    <tr>\n",
       "      <th>4</th>\n",
       "      <td>0</td>\n",
       "      <td>137</td>\n",
       "      <td>40</td>\n",
       "      <td>43.1</td>\n",
       "      <td>2.288</td>\n",
       "      <td>33</td>\n",
       "      <td>1</td>\n",
       "    </tr>\n",
       "  </tbody>\n",
       "</table>\n",
       "</div>"
      ],
      "text/plain": [
       "   embarazo  glucosa  presion_sangre   BMI  pedigree  edad  salida\n",
       "0         6      148              72  33.6     0.627    50       1\n",
       "1         1       85              66  26.6     0.351    31       0\n",
       "2         8      183              64  23.3     0.672    32       1\n",
       "3         1       89              66  28.1     0.167    21       0\n",
       "4         0      137              40  43.1     2.288    33       1"
      ]
     },
     "execution_count": 28,
     "metadata": {},
     "output_type": "execute_result"
    }
   ],
   "source": [
    "del diabetes['espesor_piel']\n",
    "del diabetes['insulina']\n",
    "diabetes.head()"
   ]
  },
  {
   "cell_type": "code",
   "execution_count": 30,
   "metadata": {},
   "outputs": [],
   "source": [
    "diabetes.to_csv(r'dataset\\01_diabetes_manipulado.csv', index = False)"
   ]
  },
  {
   "cell_type": "markdown",
   "metadata": {},
   "source": [
    "<h3>👏👏👏 You guys rock !!!</h3>"
   ]
  }
 ],
 "metadata": {
  "kernelspec": {
   "display_name": "Python 3",
   "language": "python",
   "name": "python3"
  },
  "language_info": {
   "codemirror_mode": {
    "name": "ipython",
    "version": 3
   },
   "file_extension": ".py",
   "mimetype": "text/x-python",
   "name": "python",
   "nbconvert_exporter": "python",
   "pygments_lexer": "ipython3",
   "version": "3.7.6"
  }
 },
 "nbformat": 4,
 "nbformat_minor": 4
}
